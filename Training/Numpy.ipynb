{
 "cells": [
  {
   "cell_type": "markdown",
   "metadata": {},
   "source": [
    "NumPy: Array Object Exercises, Practice, Solution\n",
    "\n",
    "link https://www.w3resource.com/python-exercises/numpy/index.php"
   ]
  },
  {
   "cell_type": "markdown",
   "metadata": {},
   "source": [
    "1. Write a NumPy program to print the NumPy version on your system."
   ]
  },
  {
   "cell_type": "code",
   "execution_count": 3,
   "metadata": {},
   "outputs": [
    {
     "name": "stdout",
     "output_type": "stream",
     "text": [
      "NumPy version: 1.26.4\n"
     ]
    }
   ],
   "source": [
    "import numpy as np\n",
    "\n",
    "# Print NumPy version\n",
    "print(\"NumPy version:\", np.__version__)"
   ]
  },
  {
   "cell_type": "markdown",
   "metadata": {},
   "source": [
    "2. Write a NumPy program to convert a list of numeric values into a one-dimensional NumPy array.\n",
    "\n",
    "Expected Output:\n",
    "\n",
    "Original List: [12.23, 13.32, 100, 36.32]\n",
    "\n",
    "One-dimensional NumPy array: [ 12.23 13.32 100. 36.32]"
   ]
  },
  {
   "cell_type": "code",
   "execution_count": 9,
   "metadata": {},
   "outputs": [
    {
     "name": "stdout",
     "output_type": "stream",
     "text": [
      "[ 12.23  13.32 100.    36.32]\n",
      "<class 'numpy.ndarray'>\n"
     ]
    }
   ],
   "source": [
    "List = [12.23, 13.32, 100, 36.32]\n",
    "\n",
    "Np_array = np.array(List)\n",
    "\n",
    "# Print the numpy array\n",
    "print(Np_array)\n",
    "# Print the numpy array type\n",
    "print(type(Np_array))"
   ]
  },
  {
   "cell_type": "markdown",
   "metadata": {},
   "source": [
    "3.Write a NumPy program to create a 3x3 matrix with values ranging from 2 to 10.\n",
    "\n",
    "Expected Output:\n",
    "\n",
    "[[ 2 3 4]\n",
    "\n",
    "[ 5 6 7]\n",
    "\n",
    "[ 8 9 10]]"
   ]
  },
  {
   "cell_type": "code",
   "execution_count": 10,
   "metadata": {},
   "outputs": [
    {
     "name": "stdout",
     "output_type": "stream",
     "text": [
      "[[ 2  3  4]\n",
      " [ 5  6  7]\n",
      " [ 8  9 10]]\n"
     ]
    }
   ],
   "source": [
    "# Create a 3x3 matrix with values ranging from 2 to 10\n",
    "Np_matrix = np.arange(2, 11).reshape(3, 3)\n",
    "\n",
    "# Print the matrix\n",
    "print(Np_matrix)"
   ]
  },
  {
   "cell_type": "markdown",
   "metadata": {},
   "source": [
    "4. Write a NumPy program to create a null vector of size 10 and update the sixth value to 11.\n",
    "\n",
    "[ 0. 0. 0. 0. 0. 0. 0. 0. 0. 0.]\n",
    "\n",
    "Update sixth value to 11\n",
    "\n",
    "[ 0. 0. 0. 0. 0. 0. 11. 0. 0. 0.]"
   ]
  },
  {
   "cell_type": "code",
   "execution_count": 14,
   "metadata": {},
   "outputs": [
    {
     "name": "stdout",
     "output_type": "stream",
     "text": [
      "[ 0.  0.  0.  0.  0.  0. 11.  0.  0.  0.]\n"
     ]
    }
   ],
   "source": [
    "# Create a null vector of size 10\n",
    "Np_array = np.zeros(10)\n",
    "\n",
    "# Update the sixth value to 11\n",
    "Np_array[6] = 11\n",
    "\n",
    "# Print the array\n",
    "print(Np_array)"
   ]
  },
  {
   "cell_type": "markdown",
   "metadata": {},
   "source": [
    "5. Write a NumPy program to create an array with values ranging from 12 to 38.\n",
    "\n",
    "Expected Output:\n",
    "\n",
    "[12 13 14 15 16 17 18 19 20 21 22 23 24 25 26 27 28 29 30 31 32 33 34 35 36 37]"
   ]
  },
  {
   "cell_type": "code",
   "execution_count": 15,
   "metadata": {},
   "outputs": [
    {
     "name": "stdout",
     "output_type": "stream",
     "text": [
      "[12 13 14 15 16 17 18 19 20 21 22 23 24 25 26 27 28 29 30 31 32 33 34 35\n",
      " 36 37]\n"
     ]
    }
   ],
   "source": [
    "# Create a vector with values ranging from 12 to 38\n",
    "Np_array = np.arange(12, 38)\n",
    "\n",
    "# Print the array\n",
    "print(Np_array)"
   ]
  },
  {
   "cell_type": "markdown",
   "metadata": {},
   "source": [
    "6. Write a NumPy program to reverse an array (the first element becomes the last).\n",
    "\n",
    "Original array:\n",
    "\n",
    "[12 13 14 15 16 17 18 19 20 21 22 23 24 25 26 27 28 29 30 31 32 33 34 35 36 37]\n",
    "\n",
    "Reverse array:\n",
    "\n",
    "[37 36 35 34 33 32 31 30 29 28 27 26 25 24 23 22 21 20 19 18 17 16 15 14 13 12]"
   ]
  },
  {
   "cell_type": "code",
   "execution_count": 17,
   "metadata": {},
   "outputs": [
    {
     "name": "stdout",
     "output_type": "stream",
     "text": [
      "[37 36 35 34 33 32 31 30 29 28 27 26 25 24 23 22 21 20 19 18 17 16 15 14\n",
      " 13 12]\n"
     ]
    }
   ],
   "source": [
    "# Create a vector with values ranging from 12 to 38\n",
    "Np_array = np.arange(12, 38)\n",
    "\n",
    "# Reverse the array\n",
    "Reversed_array = np.flip(Np_array)\n",
    "\n",
    "# Print the reversed array\n",
    "print(Reversed_array)"
   ]
  },
  {
   "cell_type": "markdown",
   "metadata": {},
   "source": [
    "7. Write a NumPy program to convert an array to a floating type.\n",
    "\n",
    "Sample output:\n",
    "\n",
    "Original array\n",
    "\n",
    "[1, 2, 3, 4]\n",
    "\n",
    "Array converted to a float type:\n",
    "\n",
    "[ 1. 2. 3. 4.]"
   ]
  },
  {
   "cell_type": "code",
   "execution_count": 18,
   "metadata": {},
   "outputs": [
    {
     "name": "stdout",
     "output_type": "stream",
     "text": [
      "[1. 2. 3. 4.]\n"
     ]
    }
   ],
   "source": [
    "# Create a vector with values ranging from 1 to 5\n",
    "Np_array = np.arange(1, 5)\n",
    "\n",
    "# Convert the array to float type\n",
    "Np_float_array = Np_array.astype(float)\n",
    "\n",
    "# Print the float array\n",
    "print(Np_float_array)"
   ]
  },
  {
   "cell_type": "markdown",
   "metadata": {},
   "source": [
    "8. Write a NumPy program to create a 2D array with 1 on the border and 0 inside.\n",
    "\n",
    "Expected Output:\n",
    "\n",
    "Original array:\n",
    "\n",
    "[[ 1. 1. 1. 1. 1.]\n",
    "\n",
    "...................\n",
    "\n",
    "[ 1. 1. 1. 1. 1.]]\n",
    "\n",
    "1 on the border and 0 inside in the array\n",
    "\n",
    "[[ 1. 1. 1. 1. 1.]\n",
    "\n",
    "...................\n",
    "\n",
    "[ 1. 1. 1. 1. 1.]]"
   ]
  },
  {
   "cell_type": "code",
   "execution_count": 24,
   "metadata": {},
   "outputs": [
    {
     "name": "stdout",
     "output_type": "stream",
     "text": [
      "[[1. 1. 1. 1. 1.]\n",
      " [1. 1. 1. 1. 1.]\n",
      " [1. 1. 1. 1. 1.]\n",
      " [1. 1. 1. 1. 1.]\n",
      " [1. 1. 1. 1. 1.]]\n",
      "\n",
      "[[1. 1. 1. 1. 1.]\n",
      " [1. 0. 0. 0. 1.]\n",
      " [1. 0. 0. 0. 1.]\n",
      " [1. 0. 0. 0. 1.]\n",
      " [1. 1. 1. 1. 1.]]\n"
     ]
    }
   ],
   "source": [
    "# Specify the dimensions of the 2D array\n",
    "rows, cols = 5, 5\n",
    "\n",
    "# Create the original array with 1 on the border and 0 inside\n",
    "Np_array = np.ones((rows, cols))\n",
    "\n",
    "# Print original array\n",
    "print(Np_array)\n",
    "print()\n",
    "\n",
    "# Set the inner values to 0\n",
    "Np_array[1:-1, 1:-1] = 0\n",
    "\n",
    "# Print converted array\n",
    "print(Np_array)"
   ]
  },
  {
   "cell_type": "markdown",
   "metadata": {},
   "source": [
    "9. Write a NumPy program to add a border (filled with 0's) around an existing array.\n",
    "Expected Output:\n",
    "\n",
    "Original array:\n",
    "\n",
    "[[ 1. 1. 1.]\n",
    "\n",
    "[ 1. 1. 1.]\n",
    "\n",
    "[ 1. 1. 1.]]\n",
    "\n",
    "1 on the border and 0 inside in the array\n",
    "\n",
    "[[ 0. 0. 0. 0. 0.]\n",
    "\n",
    "...........\n",
    "\n",
    "[ 0. 0. 0. 0. 0.]]"
   ]
  },
  {
   "cell_type": "code",
   "execution_count": 30,
   "metadata": {},
   "outputs": [
    {
     "name": "stdout",
     "output_type": "stream",
     "text": [
      "Original array:\n",
      "[[1. 1. 1. 1. 1.]\n",
      " [1. 1. 1. 1. 1.]\n",
      " [1. 1. 1. 1. 1.]\n",
      " [1. 1. 1. 1. 1.]\n",
      " [1. 1. 1. 1. 1.]]\n",
      "\n",
      "Array with the added border:\n",
      "[[0. 0. 0. 0. 0. 0. 0.]\n",
      " [0. 1. 1. 1. 1. 1. 0.]\n",
      " [0. 1. 1. 1. 1. 1. 0.]\n",
      " [0. 1. 1. 1. 1. 1. 0.]\n",
      " [0. 1. 1. 1. 1. 1. 0.]\n",
      " [0. 1. 1. 1. 1. 1. 0.]\n",
      " [0. 0. 0. 0. 0. 0. 0.]]\n"
     ]
    }
   ],
   "source": [
    "# Specify the dimensions of the 2D array\n",
    "rows, cols = 5, 5\n",
    "\n",
    "# Create the original array with 1 on the border and 0 inside\n",
    "Np_array = np.ones((rows, cols))\n",
    "\n",
    "# Print original array\n",
    "print(\"Original array:\")\n",
    "print(Np_array)\n",
    "\n",
    "# Add a border of 0's around the original array\n",
    "Np_border_array = np.pad(Np_array, pad_width=1, mode='constant', constant_values=0)\n",
    "\n",
    "# Print array with the added border\n",
    "print(\"\\nArray with the added border:\")\n",
    "print(Np_border_array)"
   ]
  },
  {
   "cell_type": "markdown",
   "metadata": {},
   "source": [
    "10. Write a NumPy program to create an 8x8 matrix and fill it with a checkerboard pattern.\n",
    "\n",
    "Checkerboard pattern:\n",
    "\n",
    "[[0 1 0 1 0 1 0 1]\n",
    "\n",
    "..........\n",
    "\n",
    "[0 1 0 1 0 1 0 1]\n",
    "\n",
    "[1 0 1 0 1 0 1 0]]"
   ]
  },
  {
   "cell_type": "code",
   "execution_count": 41,
   "metadata": {},
   "outputs": [
    {
     "name": "stdout",
     "output_type": "stream",
     "text": [
      "Original array:\n",
      "[[1. 1. 1. 1. 1.]\n",
      " [1. 1. 1. 1. 1.]\n",
      " [1. 1. 1. 1. 1.]\n",
      " [1. 1. 1. 1. 1.]\n",
      " [1. 1. 1. 1. 1.]]\n",
      "\n",
      "Array with the new pattern:\n",
      "[[0. 1. 0. 1. 0.]\n",
      " [1. 0. 1. 0. 1.]\n",
      " [0. 1. 0. 1. 0.]\n",
      " [1. 0. 1. 0. 1.]\n",
      " [0. 1. 0. 1. 0.]]\n"
     ]
    }
   ],
   "source": [
    "# Specify the dimensions of the 2D array\n",
    "rows, cols = 5, 5\n",
    "\n",
    "# Create the original array with 1 on the border and 0 inside\n",
    "Np_array = np.ones((rows, cols))\n",
    "\n",
    "# Print original array\n",
    "print(\"Original array:\")\n",
    "print(Np_array)\n",
    "\n",
    "# Fill the even rows and columns with 1\n",
    "Np_array[::2, ::2] = 0\n",
    "Np_array[1::2, 1::2] = 0\n",
    "\n",
    "# Print array with the new pattern\n",
    "print(\"\\nArray with the new pattern:\")\n",
    "print(Np_array)"
   ]
  },
  {
   "cell_type": "markdown",
   "metadata": {},
   "source": [
    "11. Write a NumPy program to convert a list and tuple into arrays.\n",
    "\n",
    "List to array:\n",
    "\n",
    "[1 2 3 4 5 6 7 8]\n",
    "\n",
    "Tuple to array:\n",
    "[[8 4 6]\n",
    "[1 2 3]]"
   ]
  },
  {
   "cell_type": "code",
   "execution_count": 48,
   "metadata": {},
   "outputs": [
    {
     "name": "stdout",
     "output_type": "stream",
     "text": [
      "List to array:\n",
      "[1 2 3 4 5 6 7 8]\n",
      "\n",
      "Tuple to array:\n",
      "[[8 4 6]\n",
      " [1 2 3]]\n"
     ]
    }
   ],
   "source": [
    "import numpy as np\n",
    "\n",
    "# Convert a list to an array\n",
    "List_data = [1, 2, 3, 4, 5, 6, 7, 8]\n",
    "Array_from_list = np.array(List_data)\n",
    "\n",
    "# Convert a tuple to a 2D array\n",
    "Tuple_data = ((8, 4, 6), (1, 2, 3))\n",
    "Array_from_tuple = np.array(Tuple_data)\n",
    "\n",
    "# Print the results\n",
    "print(\"List to array:\")\n",
    "print(Array_from_list)\n",
    "\n",
    "print(\"\\nTuple to array:\")\n",
    "print(Array_from_tuple)\n"
   ]
  },
  {
   "cell_type": "markdown",
   "metadata": {},
   "source": [
    "12. Write a NumPy program to append values to the end of an array.\n",
    "\n",
    "Expected Output:\n",
    "\n",
    "Original array:\n",
    "\n",
    "[10, 20, 30]\n",
    "\n",
    "After append values to the end of the array:\n",
    "\n",
    "[10 20 30 40 50 60 70 80 90]"
   ]
  },
  {
   "cell_type": "code",
   "execution_count": 49,
   "metadata": {},
   "outputs": [
    {
     "name": "stdout",
     "output_type": "stream",
     "text": [
      "Original array:\n",
      "[10 20 30]\n",
      "\n",
      "After append values to the end of the array:\n",
      "[10 20 30 40 50 60 70 80 90]\n"
     ]
    }
   ],
   "source": [
    "import numpy as np\n",
    "\n",
    "# Create the original array\n",
    "original_array = np.array([10, 20, 30])\n",
    "\n",
    "# Print the original array\n",
    "print(\"Original array:\")\n",
    "print(original_array)\n",
    "\n",
    "# Values to append\n",
    "values_to_append = np.array([40, 50, 60, 70, 80, 90])\n",
    "\n",
    "# Append values to the end of the array\n",
    "result_array = np.append(original_array, values_to_append)\n",
    "\n",
    "# Print the array after appending values\n",
    "print(\"\\nAfter append values to the end of the array:\")\n",
    "print(result_array)\n"
   ]
  },
  {
   "cell_type": "markdown",
   "metadata": {},
   "source": [
    "13. Write a NumPy program to create an empty and full array.\n",
    "\n",
    "Expected Output:\n",
    "\n",
    "[ 6.93270651e-310 1.59262180e-316 6.93270559e-310 6.93270665e-310]\n",
    "\n",
    "[ 6.93270667e-310 6.93270671e-310 6.93270668e-310 6.93270483e-310]\n",
    "\n",
    "[ 6.93270668e-310 6.93270671e-310 6.93270370e-310 6.93270488e-310]]\n",
    "\n",
    "\n",
    "[[6 6 6]\n",
    "\n",
    "[6 6 6]\n",
    "\n",
    "[6 6 6]]"
   ]
  },
  {
   "cell_type": "code",
   "execution_count": 56,
   "metadata": {},
   "outputs": [
    {
     "name": "stdout",
     "output_type": "stream",
     "text": [
      "Empty array:\n",
      "[[0. 0. 0. 0.]\n",
      " [0. 0. 0. 0.]\n",
      " [0. 0. 0. 0.]]\n",
      "\n",
      "Full array:\n",
      "[[6 6 6]\n",
      " [6 6 6]\n",
      " [6 6 6]]\n"
     ]
    }
   ],
   "source": [
    "# Create an empty array\n",
    "empty_array = np.empty((3, 4))\n",
    "\n",
    "# Create a full array with a specified value (6 in this case)\n",
    "full_array = np.full((3, 3), 6)\n",
    "\n",
    "# Print the empty and full arrays\n",
    "print(\"Empty array:\")\n",
    "print(empty_array)\n",
    "\n",
    "print(\"\\nFull array:\")\n",
    "print(full_array)\n"
   ]
  },
  {
   "cell_type": "markdown",
   "metadata": {},
   "source": [
    "14. Write a NumPy program to convert Centigrade degrees into Fahrenheit degrees. Centigrade values are stored in a NumPy array.\n",
    "\n",
    "Sample Array [0, 12, 45.21, 34, 99.91]\n",
    "\n",
    "[-17.78, -11.11, 7.34, 1.11, 37.73, 0. ]\n",
    "\n",
    "Expected Output:\n",
    "\n",
    "Values in Fahrenheit degrees:\n",
    "\n",
    "[ 0. 12. 45.21 34. 99.91 32. ]\n",
    "\n",
    "Values in Centigrade degrees:\n",
    "\n",
    "[-17.78 -11.11 7.34 1.11 37.73 0. ]"
   ]
  },
  {
   "cell_type": "code",
   "execution_count": 62,
   "metadata": {},
   "outputs": [
    {
     "name": "stdout",
     "output_type": "stream",
     "text": [
      "Values in Fahrenheit degrees:\n",
      "[-0.   12.   45.21 34.   99.91 32.  ]\n",
      "\n",
      "Values in Centigrade degrees:\n",
      "[-17.78 -11.11   7.34   1.11  37.73   0.  ]\n"
     ]
    }
   ],
   "source": [
    "# Sample array in Centigrade\n",
    "centigrade_array = np.array([-17.78, -11.11, 7.34,1.11, 37.73, 0.])\n",
    "\n",
    "# Convert Centigrade to Fahrenheit\n",
    "fahrenheit_array = (centigrade_array * 9/5) + 32\n",
    "\n",
    "# Print the values in Fahrenheit and Centigrade\n",
    "print(\"Values in Fahrenheit degrees:\")\n",
    "print(fahrenheit_array.round(2))\n",
    "\n",
    "print(\"\\nValues in Centigrade degrees:\")\n",
    "print(centigrade_array)\n"
   ]
  },
  {
   "cell_type": "markdown",
   "metadata": {},
   "source": [
    "15. Write a NumPy program to find the real and imaginary parts of an array of complex numbers.\n",
    "\n",
    "Expected Output:\n",
    "\n",
    "Original array [ 1.00000000+0.j 0.70710678+0.70710678j]\n",
    "\n",
    "Real part of the array:\n",
    "\n",
    "[ 1. 0.70710678]\n",
    "\n",
    "Imaginary part of the array:\n",
    "\n",
    "[ 0. 0.70710678]"
   ]
  },
  {
   "cell_type": "code",
   "execution_count": 63,
   "metadata": {},
   "outputs": [
    {
     "name": "stdout",
     "output_type": "stream",
     "text": [
      "Original array [1.        +0.j         0.70710678+0.70710678j]\n",
      "Real part of the array:\n",
      "[1.         0.70710678]\n",
      "\n",
      "Imaginary part of the array:\n",
      "[0.         0.70710678]\n"
     ]
    }
   ],
   "source": [
    "# Original array of complex numbers\n",
    "complex_array = np.array([1.0 + 0.0j, 0.70710678 + 0.70710678j])\n",
    "\n",
    "# Print the original array\n",
    "print(\"Original array\", complex_array)\n",
    "\n",
    "# Find the real and imaginary parts\n",
    "real_part = np.real(complex_array)\n",
    "imaginary_part = np.imag(complex_array)\n",
    "\n",
    "# Print the real and imaginary part\n",
    "print(\"Real part of the array:\")\n",
    "print(real_part)\n",
    "\n",
    "print(\"\\nImaginary part of the array:\")\n",
    "print(imaginary_part)"
   ]
  },
  {
   "cell_type": "markdown",
   "metadata": {},
   "source": [
    "16. Write a NumPy program to find the number of elements in an array. It also finds the length of one array element in bytes and the total bytes consumed by the elements.\n",
    "\n",
    "Expected Output:\n",
    "\n",
    "Size of the array: 3\n",
    "\n",
    "Length of one array element in bytes: 8\n",
    "\n",
    "Total bytes consumed by the elements of the array: 24"
   ]
  },
  {
   "cell_type": "code",
   "execution_count": 64,
   "metadata": {},
   "outputs": [
    {
     "name": "stdout",
     "output_type": "stream",
     "text": [
      "Size of the array: 3\n",
      "Length of one array element in bytes: 8\n",
      "Total bytes consumed by the elements of the array: 24\n"
     ]
    }
   ],
   "source": [
    "import numpy as np\n",
    "\n",
    "# Create an array\n",
    "my_array = np.array([1, 2, 3])\n",
    "\n",
    "# Find the number of elements in the array\n",
    "array_size = my_array.size\n",
    "\n",
    "# Find the length of one array element in bytes\n",
    "element_size = my_array.itemsize\n",
    "\n",
    "# Find the total bytes consumed by the elements of the array\n",
    "total_bytes = my_array.nbytes\n",
    "\n",
    "# Print the results\n",
    "print(\"Size of the array:\", array_size)\n",
    "print(\"Length of one array element in bytes:\", element_size)\n",
    "print(\"Total bytes consumed by the elements of the array:\", total_bytes)"
   ]
  },
  {
   "cell_type": "markdown",
   "metadata": {},
   "source": [
    "17. Write a NumPy program to test whether each element of a 1-D array is also present in a second array.\n",
    "\n",
    "Expected Output:\n",
    "\n",
    "Array1: [ 0 10 20 40 60]\n",
    "\n",
    "Array2: [0, 40]\n",
    "\n",
    "Compare each element of array1 and array2\n",
    "\n",
    "[ True False False True False]"
   ]
  },
  {
   "cell_type": "code",
   "execution_count": 65,
   "metadata": {},
   "outputs": [
    {
     "name": "stdout",
     "output_type": "stream",
     "text": [
      "Array1: [ 0 10 20 40 60]\n",
      "Array2: [ 0 40]\n",
      "Compare each element of array1 and array2:\n",
      "[ True False False  True False]\n"
     ]
    }
   ],
   "source": [
    "import numpy as np\n",
    "\n",
    "# Define the arrays\n",
    "array1 = np.array([0, 10, 20, 40, 60])\n",
    "array2 = np.array([0, 40])\n",
    "\n",
    "# Use the np.isin() function to compare each element of array1 and array2\n",
    "result = np.isin(array1, array2)\n",
    "\n",
    "# Print the results\n",
    "print(\"Array1:\", array1)\n",
    "print(\"Array2:\", array2)\n",
    "print(\"Compare each element of array1 and array2:\")\n",
    "print(result)\n"
   ]
  },
  {
   "cell_type": "markdown",
   "metadata": {},
   "source": [
    "18. Write a NumPy program to find common values between two arrays.\n",
    "\n",
    "Expected Output:\n",
    "\n",
    "Array1: [ 0 10 20 40 60]\n",
    "\n",
    "Array2: [10, 30, 40]\n",
    "\n",
    "Common values between two arrays:\n",
    "\n",
    "[10 40]"
   ]
  },
  {
   "cell_type": "code",
   "execution_count": 66,
   "metadata": {},
   "outputs": [
    {
     "name": "stdout",
     "output_type": "stream",
     "text": [
      "Array1: [ 0 10 20 40 60]\n",
      "Array2: [10 30 40]\n",
      "Common values between two arrays:\n",
      "[10 40]\n"
     ]
    }
   ],
   "source": [
    "# Define the arrays\n",
    "array1 = np.array([0, 10, 20, 40, 60])\n",
    "array2 = np.array([10, 30, 40])\n",
    "\n",
    "# Find common values using np.intersect1d()\n",
    "common_values = np.intersect1d(array1, array2)\n",
    "\n",
    "# Print the results\n",
    "print(\"Array1:\", array1)\n",
    "print(\"Array2:\", array2)\n",
    "print(\"Common values between two arrays:\")\n",
    "print(common_values)"
   ]
  },
  {
   "cell_type": "markdown",
   "metadata": {},
   "source": [
    "19. Write a NumPy program to get the unique elements of an array.\n",
    "Expected Output:\n",
    "\n",
    "Original array:\n",
    "\n",
    "[10 10 20 20 30 30]\n",
    "\n",
    "Unique elements of the above array:\n",
    "\n",
    "[10 20 30]\n",
    "\n",
    "Original array:\n",
    "\n",
    "[[1 1]\n",
    "\n",
    "[2 3]]\n",
    "\n",
    "Unique elements of the above array:\n",
    "\n",
    "[1 2 3]"
   ]
  },
  {
   "cell_type": "code",
   "execution_count": 67,
   "metadata": {},
   "outputs": [
    {
     "name": "stdout",
     "output_type": "stream",
     "text": [
      "Original array:\n",
      "[10 10 20 20 30 30]\n",
      "Unique elements of the above array:\n",
      "[10 20 30]\n",
      "\n",
      "Original array:\n",
      "[[1 1]\n",
      " [2 3]]\n",
      "Unique elements of the above array:\n",
      "[1 2 3]\n"
     ]
    }
   ],
   "source": [
    "# Original array 1\n",
    "array1 = np.array([10, 10, 20, 20, 30, 30])\n",
    "\n",
    "# Print the original array\n",
    "print(\"Original array:\")\n",
    "print(array1)\n",
    "\n",
    "# Get unique elements of array1\n",
    "unique_elements1 = np.unique(array1)\n",
    "\n",
    "# Print unique elements of array1\n",
    "print(\"Unique elements of the above array:\")\n",
    "print(unique_elements1)\n",
    "\n",
    "# Original array 2\n",
    "array2 = np.array([[1, 1], [2, 3]])\n",
    "\n",
    "# Print the original array\n",
    "print(\"\\nOriginal array:\")\n",
    "print(array2)\n",
    "\n",
    "# Get unique elements of array2\n",
    "unique_elements2 = np.unique(array2)\n",
    "\n",
    "# Print unique elements of array2\n",
    "print(\"Unique elements of the above array:\")\n",
    "print(unique_elements2)\n"
   ]
  },
  {
   "cell_type": "markdown",
   "metadata": {},
   "source": [
    "20. Write a NumPy program to find the set difference between two arrays. The set difference will return sorted, distinct values in array1 that are not in array2.\n",
    "Expected Output:\n",
    "\n",
    "\n",
    "Array1: [ 0 10 20 40 60 80]\n",
    "\n",
    "Array2: [10, 30, 40, 50, 70, 90]\n",
    "\n",
    "Set difference between two arrays:\n",
    "\n",
    "[ 0 20 60 80]"
   ]
  },
  {
   "cell_type": "code",
   "execution_count": 70,
   "metadata": {},
   "outputs": [
    {
     "name": "stdout",
     "output_type": "stream",
     "text": [
      "Array1: [ 0 10 20 40 60 80]\n",
      "Array2: [10 30 40 50 70 90]\n",
      "Set difference between two arrays:\n",
      "[ 0 20 60 80]\n"
     ]
    }
   ],
   "source": [
    "import numpy as np\n",
    "\n",
    "# Define the arrays\n",
    "array1 = np.array([0, 10, 20, 40, 60, 80])\n",
    "array2 = np.array([10, 30, 40, 50, 70, 90])\n",
    "\n",
    "# Find the set difference using np.setdiff1d()\n",
    "set_difference = np.setdiff1d(array1, array2)\n",
    "\n",
    "# Print the results\n",
    "print(\"Array1:\", array1)\n",
    "print(\"Array2:\", array2)\n",
    "print(\"Set difference between two arrays:\")\n",
    "print(set_difference)\n"
   ]
  }
 ],
 "metadata": {
  "kernelspec": {
   "display_name": "Python 3",
   "language": "python",
   "name": "python3"
  },
  "language_info": {
   "codemirror_mode": {
    "name": "ipython",
    "version": 3
   },
   "file_extension": ".py",
   "mimetype": "text/x-python",
   "name": "python",
   "nbconvert_exporter": "python",
   "pygments_lexer": "ipython3",
   "version": "3.10.12"
  }
 },
 "nbformat": 4,
 "nbformat_minor": 2
}
